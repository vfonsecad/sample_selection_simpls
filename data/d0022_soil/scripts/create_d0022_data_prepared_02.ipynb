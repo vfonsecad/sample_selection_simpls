{
 "cells": [
  {
   "cell_type": "code",
   "execution_count": 1,
   "metadata": {},
   "outputs": [
    {
     "data": {
      "text/plain": [
       "dict_keys(['__header__', '__version__', '__globals__', 'soil', 'soilref'])"
      ]
     },
     "execution_count": 1,
     "metadata": {},
     "output_type": "execute_result"
    }
   ],
   "source": [
    "import scipy.io as sp_io\n",
    "from rpy2.robjects.packages import importr\n",
    "from rpy2.robjects import numpy2ri\n",
    "import numpy as np\n",
    "\n",
    "\n",
    "wdir = \"/home/valeria/vfonsecad/kul_phd/programming/phd_valeria_fonseca_diaz_wp1/wp1_study002_sample_selection/data/d0022_soil/\"\n",
    "mat_filename = wdir + \"data_raw/NIRsoil.mat\"\n",
    "data_mat = sp_io.loadmat(mat_filename, struct_as_record = False)\n",
    "\n",
    "\n",
    "type(data_mat)\n",
    "data_mat.keys()\n",
    "\n",
    "\n"
   ]
  },
  {
   "cell_type": "code",
   "execution_count": 2,
   "metadata": {},
   "outputs": [
    {
     "name": "stdout",
     "output_type": "stream",
     "text": [
      "(108, 1050)\n"
     ]
    }
   ],
   "source": [
    "\n",
    "\n",
    "y = np.asarray(data_mat[\"soilref\"])[0,0].data\n",
    "x = np.asarray(data_mat[\"soil\"])[0,0].data\n",
    "\n",
    "xcal = x.copy()\n",
    "ycal = y.copy()\n",
    "\n",
    "print(xcal.shape)\n",
    "\n",
    "\n",
    "y_labels = [\"som\", \"ergogdw\"]\n",
    "\n",
    "\n",
    "data_prepared = {\"y_labels\":y_labels,\n",
    "                \"xcal\": xcal,\n",
    "                \"ycal\": ycal}\n",
    "\n",
    "\n",
    "sp_io.savemat(wdir + \"data_prepared/d0022_data_prepared_02.mat\", data_prepared)\n"
   ]
  }
 ],
 "metadata": {
  "kernelspec": {
   "display_name": "Python 3",
   "language": "python",
   "name": "python3"
  },
  "language_info": {
   "codemirror_mode": {
    "name": "ipython",
    "version": 3
   },
   "file_extension": ".py",
   "mimetype": "text/x-python",
   "name": "python",
   "nbconvert_exporter": "python",
   "pygments_lexer": "ipython3",
   "version": "3.7.3"
  }
 },
 "nbformat": 4,
 "nbformat_minor": 4
}
