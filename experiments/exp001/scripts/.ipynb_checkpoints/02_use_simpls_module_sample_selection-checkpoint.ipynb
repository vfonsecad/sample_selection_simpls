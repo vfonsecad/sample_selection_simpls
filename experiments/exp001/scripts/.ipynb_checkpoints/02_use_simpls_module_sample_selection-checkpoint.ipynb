{
 "cells": [
  {
   "cell_type": "code",
   "execution_count": 21,
   "metadata": {},
   "outputs": [
    {
     "name": "stdout",
     "output_type": "stream",
     "text": [
      "--------- imports loaded ----------\n",
      "56 700\n",
      "(24, 700)\n",
      "--------- data loaded for /data/d0001_corn/data_prepared/d0001_data_prepared_01!*moisture-protein *!----------\n"
     ]
    }
   ],
   "source": [
    "# --------------------------------------------------------------------------\n",
    "\n",
    "# ----------------- simpls models after sample_selection functions\n",
    "\n",
    "# -------------------------------------------------------------------------\n",
    "\n",
    "\n",
    "# ¡¡¡ --- !!! # ---> modules and data cases\n",
    "\n",
    "# --- system modules\n",
    "\n",
    "import sys\n",
    "import datetime\n",
    "import os\n",
    "\n",
    "\n",
    "base_dir = \"/home/u0106869/vfonsecad/kul_phd/github_projects/sample_selection_simpls\"\n",
    "\n",
    "# --- data handling modules\n",
    "\n",
    "import numpy as np\n",
    "import pandas as pd\n",
    "import scipy.io as sp_io\n",
    "import scipy as sp\n",
    "\n",
    "# --- visualization modules\n",
    "\n",
    "import matplotlib.pyplot as plt\n",
    "import pandas as pd\n",
    "from matplotlib import rcParams\n",
    "import plotly.express as px\n",
    "import plotly.graph_objects as go\n",
    "from plotly.subplots import make_subplots\n",
    "\n",
    "# --- my modules\n",
    "\n",
    "methods_dir = base_dir + '/methodology'  \n",
    "sys.path.insert(0, methods_dir + '/model_building')\n",
    "sys.path.insert(0, methods_dir + '/read_data')\n",
    "sys.path.insert(0, methods_dir + '/sample_selection')\n",
    "from class_chemometrics_data import chemometrics_data\n",
    "from class_sample_selection import sample_selection\n",
    "import simpls_module\n",
    "\n",
    "\n",
    "\n",
    "\n",
    "# ¡¡¡ --- !!! # ---> base working directory and available data cases\n",
    "\n",
    "\n",
    "# ************************************ init --- user \n",
    "cases_dict = {\"d0001\": [\"d0001_corn\", \"d0001_data_prepared_01\"]}\n",
    "# ************************************ end --- user \n",
    "\n",
    "\n",
    "print(\"--------- imports loaded ----------\")\n",
    "\n",
    "\n",
    "experimentID = \"exp001\"\n",
    "\n",
    "# ¡¡¡ --- !!! # ---> data\n",
    "\n",
    "\n",
    "# ************************************ init --- user \n",
    "caseID_key = \"d0001\"\n",
    "# ************************************ end --- user \n",
    "\n",
    "case_dir = cases_dict[caseID_key][0]\n",
    "dname = cases_dict[caseID_key][1]\n",
    "data_dir = '/data/' + case_dir + '/data_prepared/'\n",
    "\n",
    "\n",
    "\n",
    "\n",
    "\n",
    "# ************************************ init --- user\n",
    "data_class = chemometrics_data(base_dir + data_dir + dname + '.mat', \n",
    "                               data_identifier = data_dir + dname,\n",
    "                               include_val = False,\n",
    "                               include_test = True,\n",
    "                               include_unlabeled = False,\n",
    "                               y_all_range = False,\n",
    "                               y_range = np.array([0,2]),\n",
    "                               obs_all_cal = True,\n",
    "                              shuffle = False)\n",
    "# ************************************ end --- user\n",
    "\n",
    "\n",
    "\n",
    "print(data_class.ncal, data_class.K)\n",
    "print(data_class.get_test()[\"xtest\"].shape)\n",
    "\n",
    "\n",
    "print(\"--------- data loaded for \" + data_class.data_identifier + \"----------\")\n",
    "\n",
    "\n"
   ]
  },
  {
   "cell_type": "code",
   "execution_count": 22,
   "metadata": {},
   "outputs": [
    {
     "name": "stdout",
     "output_type": "stream",
     "text": [
      "done\n"
     ]
    }
   ],
   "source": [
    "# --- initialize numba functions\n",
    "\n",
    "output_pls = simpls_module.simpls_fit(xx=data_class.get_cal()[\"xcal\"], yy=data_class.get_cal()[\"ycal\"], nlv=14)\n",
    "ytest_pred = simpls_module.simpls_predict(data_class.get_test()[\"xtest\"],  output_pls[0],output_pls[1],output_pls[2])\n",
    "rmsep = simpls_module.rmse(data_class.get_test()[\"ytest\"], ytest_pred, np.ones(ytest_pred.shape[0]))\n",
    "r2 = simpls_module.r2(data_class.get_test()[\"ytest\"], ytest_pred, np.ones(ytest_pred.shape[0]))\n",
    "cv_output = simpls_module.simpls_univariate_cv(xx=data_class.get_cal()[\"xcal\"], yy=data_class.get_cal()[\"ycal\"], total_nlv=40, number_splits=10, number_repetitions=4)\n",
    "\n",
    "\n",
    "print(\"done\")"
   ]
  },
  {
   "cell_type": "code",
   "execution_count": 23,
   "metadata": {},
   "outputs": [],
   "source": [
    "# --- functions for model performance\n",
    "\n",
    "def model_performance_cv_val_test(X0,Y0,selected_rows,Xtest, Ytest,total_lv=25, cv_reps = 2):\n",
    "\n",
    "\n",
    "\n",
    "    Xc = X0 - X0.mean(axis=0)\n",
    "    Yc = Y0 - Y0.mean(axis=0)  \n",
    "\n",
    "\n",
    "    # ¡¡¡ --- !!! get samples\n",
    "\n",
    "    cal_samples = selected_rows.copy()\n",
    "    n_ss = cal_samples.sum()\n",
    " \n",
    "\n",
    "\n",
    "    # --- train, cv, val, test\n",
    "\n",
    "    Xcal = X0[cal_samples==1,:]\n",
    "    Ycal = Y0[cal_samples==1,:]\n",
    "    Xval = X0[cal_samples==0,:]\n",
    "    Yval = Y0[cal_samples==0,:]  \n",
    "    \n",
    "    \n",
    "    trained_pls = simpls_module.simpls_fit(xx=Xcal, yy=Ycal, nlv=total_lv)\n",
    "    yval_pred = simpls_module.simpls_predict(Xval,  trained_pls[0],trained_pls[1],trained_pls[2])\n",
    "    ytest_pred = simpls_module.simpls_predict(Xtest,  trained_pls[0],trained_pls[1],trained_pls[2])\n",
    "    \n",
    "    \n",
    "    rmseval = simpls_module.rmse(Yval, yval_pred, np.ones(yval_pred.shape[0]))[:,0]\n",
    "    rmsep = simpls_module.rmse(Ytest, ytest_pred, np.ones(ytest_pred.shape[0]))[:,0]\n",
    "    \n",
    "    r2val = simpls_module.r2(Yval, yval_pred, np.ones(yval_pred.shape[0]))[:,0]\n",
    "    r2p = simpls_module.r2(Ytest, ytest_pred, np.ones(ytest_pred.shape[0]))[:,0]\n",
    "    \n",
    "    \n",
    "    cv_output = simpls_module.simpls_univariate_cv(xx=Xcal, yy=Ycal, total_nlv=total_lv, number_splits=10, number_repetitions = cv_reps)\n",
    "    \n",
    "    rmsecv = cv_output[0]\n",
    "    r2cv = cv_output[1]\n",
    "\n",
    "\n",
    "    \n",
    "    output = {'rmsecv':rmsecv,\n",
    "              'rmseval': rmseval,\n",
    "              'rmsep':rmsep,\n",
    "             'r2cv':r2cv,\n",
    "             'r2val':r2val,\n",
    "             'r2p':r2p}\n",
    "    \n",
    "    return output\n",
    "    \n"
   ]
  },
  {
   "cell_type": "code",
   "execution_count": 24,
   "metadata": {},
   "outputs": [],
   "source": [
    "# --- get design and selected samples\n",
    "\n",
    "design_df = pd.read_pickle(base_dir + \"/experiments/\" + experimentID + \"/output/\" + caseID_key + \"_01_design_selected_samples.pkl\")\n"
   ]
  },
  {
   "cell_type": "code",
   "execution_count": 17,
   "metadata": {},
   "outputs": [
    {
     "name": "stdout",
     "output_type": "stream",
     "text": [
      "start:  2020-09-04 17:13:41.696367\n",
      "moisture\n",
      "0\n",
      "100\n",
      "200\n"
     ]
    },
    {
     "ename": "LinAlgError",
     "evalue": "Matrix is singular to machine precision.",
     "output_type": "error",
     "traceback": [
      "\u001b[0;31m---------------------------------------------------------------------------\u001b[0m",
      "\u001b[0;31mLinAlgError\u001b[0m                               Traceback (most recent call last)",
      "\u001b[0;32m<ipython-input-17-99d492be5ac0>\u001b[0m in \u001b[0;36m<module>\u001b[0;34m\u001b[0m\n\u001b[1;32m     30\u001b[0m         \u001b[0mselected_samples\u001b[0m \u001b[0;34m=\u001b[0m \u001b[0mcurrent_run\u001b[0m\u001b[0;34m[\u001b[0m\u001b[0;34m\"selected_samples\"\u001b[0m\u001b[0;34m]\u001b[0m\u001b[0;34m\u001b[0m\u001b[0;34m\u001b[0m\u001b[0m\n\u001b[1;32m     31\u001b[0m \u001b[0;34m\u001b[0m\u001b[0m\n\u001b[0;32m---> 32\u001b[0;31m         \u001b[0mcurrent_performance\u001b[0m \u001b[0;34m=\u001b[0m \u001b[0mmodel_performance_cv_val_test\u001b[0m\u001b[0;34m(\u001b[0m\u001b[0mxx\u001b[0m\u001b[0;34m,\u001b[0m\u001b[0myy\u001b[0m\u001b[0;34m,\u001b[0m\u001b[0mselected_samples\u001b[0m\u001b[0;34m,\u001b[0m\u001b[0mxx_test\u001b[0m\u001b[0;34m,\u001b[0m\u001b[0myy_test\u001b[0m\u001b[0;34m,\u001b[0m\u001b[0mtotal_lv\u001b[0m\u001b[0;34m=\u001b[0m\u001b[0;36m15\u001b[0m\u001b[0;34m,\u001b[0m \u001b[0mcv_reps\u001b[0m \u001b[0;34m=\u001b[0m \u001b[0;36m1\u001b[0m\u001b[0;34m)\u001b[0m\u001b[0;34m\u001b[0m\u001b[0;34m\u001b[0m\u001b[0m\n\u001b[0m\u001b[1;32m     33\u001b[0m \u001b[0;34m\u001b[0m\u001b[0m\n\u001b[1;32m     34\u001b[0m         \u001b[0mcurrent_run\u001b[0m\u001b[0;34m.\u001b[0m\u001b[0mupdate\u001b[0m\u001b[0;34m(\u001b[0m\u001b[0mcurrent_performance\u001b[0m\u001b[0;34m)\u001b[0m\u001b[0;34m\u001b[0m\u001b[0;34m\u001b[0m\u001b[0m\n",
      "\u001b[0;32m<ipython-input-14-89fe73ee9328>\u001b[0m in \u001b[0;36mmodel_performance_cv_val_test\u001b[0;34m(X0, Y0, selected_rows, Xtest, Ytest, total_lv, cv_reps)\u001b[0m\n\u001b[1;32m     24\u001b[0m \u001b[0;34m\u001b[0m\u001b[0m\n\u001b[1;32m     25\u001b[0m \u001b[0;34m\u001b[0m\u001b[0m\n\u001b[0;32m---> 26\u001b[0;31m     \u001b[0mtrained_pls\u001b[0m \u001b[0;34m=\u001b[0m \u001b[0msimpls_module\u001b[0m\u001b[0;34m.\u001b[0m\u001b[0msimpls_fit\u001b[0m\u001b[0;34m(\u001b[0m\u001b[0mxx\u001b[0m\u001b[0;34m=\u001b[0m\u001b[0mXcal\u001b[0m\u001b[0;34m,\u001b[0m \u001b[0myy\u001b[0m\u001b[0;34m=\u001b[0m\u001b[0mYcal\u001b[0m\u001b[0;34m,\u001b[0m \u001b[0mnlv\u001b[0m\u001b[0;34m=\u001b[0m\u001b[0mtotal_lv\u001b[0m\u001b[0;34m)\u001b[0m\u001b[0;34m\u001b[0m\u001b[0;34m\u001b[0m\u001b[0m\n\u001b[0m\u001b[1;32m     27\u001b[0m     \u001b[0myval_pred\u001b[0m \u001b[0;34m=\u001b[0m \u001b[0msimpls_module\u001b[0m\u001b[0;34m.\u001b[0m\u001b[0msimpls_predict\u001b[0m\u001b[0;34m(\u001b[0m\u001b[0mXval\u001b[0m\u001b[0;34m,\u001b[0m  \u001b[0mtrained_pls\u001b[0m\u001b[0;34m[\u001b[0m\u001b[0;36m0\u001b[0m\u001b[0;34m]\u001b[0m\u001b[0;34m,\u001b[0m\u001b[0mtrained_pls\u001b[0m\u001b[0;34m[\u001b[0m\u001b[0;36m1\u001b[0m\u001b[0;34m]\u001b[0m\u001b[0;34m,\u001b[0m\u001b[0mtrained_pls\u001b[0m\u001b[0;34m[\u001b[0m\u001b[0;36m2\u001b[0m\u001b[0;34m]\u001b[0m\u001b[0;34m)\u001b[0m\u001b[0;34m\u001b[0m\u001b[0;34m\u001b[0m\u001b[0m\n\u001b[1;32m     28\u001b[0m     \u001b[0mytest_pred\u001b[0m \u001b[0;34m=\u001b[0m \u001b[0msimpls_module\u001b[0m\u001b[0;34m.\u001b[0m\u001b[0msimpls_predict\u001b[0m\u001b[0;34m(\u001b[0m\u001b[0mXtest\u001b[0m\u001b[0;34m,\u001b[0m  \u001b[0mtrained_pls\u001b[0m\u001b[0;34m[\u001b[0m\u001b[0;36m0\u001b[0m\u001b[0;34m]\u001b[0m\u001b[0;34m,\u001b[0m\u001b[0mtrained_pls\u001b[0m\u001b[0;34m[\u001b[0m\u001b[0;36m1\u001b[0m\u001b[0;34m]\u001b[0m\u001b[0;34m,\u001b[0m\u001b[0mtrained_pls\u001b[0m\u001b[0;34m[\u001b[0m\u001b[0;36m2\u001b[0m\u001b[0;34m]\u001b[0m\u001b[0;34m)\u001b[0m\u001b[0;34m\u001b[0m\u001b[0;34m\u001b[0m\u001b[0m\n",
      "\u001b[0;32m~/miniconda3/envs/wp1_study002/lib/python3.7/site-packages/numba/targets/linalg.py\u001b[0m in \u001b[0;36m_inv_err_handler\u001b[0;34m()\u001b[0m\n\u001b[1;32m    767\u001b[0m         \u001b[0;32mif\u001b[0m \u001b[0mr\u001b[0m \u001b[0;34m>\u001b[0m \u001b[0;36m0\u001b[0m\u001b[0;34m:\u001b[0m\u001b[0;34m\u001b[0m\u001b[0;34m\u001b[0m\u001b[0m\n\u001b[1;32m    768\u001b[0m             raise np.linalg.LinAlgError(\n\u001b[0;32m--> 769\u001b[0;31m                 \"Matrix is singular to machine precision.\")\n\u001b[0m\u001b[1;32m    770\u001b[0m \u001b[0;34m\u001b[0m\u001b[0m\n\u001b[1;32m    771\u001b[0m \u001b[0;34m@\u001b[0m\u001b[0mregister_jitable\u001b[0m\u001b[0;34m\u001b[0m\u001b[0;34m\u001b[0m\u001b[0m\n",
      "\u001b[0;31mLinAlgError\u001b[0m: Matrix is singular to machine precision."
     ]
    }
   ],
   "source": [
    "# --- run all pls models\n",
    "\n",
    "from datetime import datetime\n",
    "\n",
    "print('start: ',datetime.now())\n",
    "\n",
    "\n",
    "for jj in range(data_class.get_cal()[\"ycal\"].shape[1]):\n",
    "    \n",
    "    print(data_class.y_names[jj])\n",
    "\n",
    "    xx = data_class.get_cal()[\"xcal\"]\n",
    "    yy = np.ascontiguousarray(data_class.get_cal()[\"ycal\"][:,jj:(jj+1)])\n",
    "    xx_test = data_class.get_test()[\"xtest\"]\n",
    "    yy_test = np.ascontiguousarray(data_class.get_test()[\"ytest\"][:,jj:(jj+1)])\n",
    "\n",
    "\n",
    "    pls_performance = {}\n",
    "\n",
    "\n",
    "    for ii in range(design_df.shape[0]):\n",
    "\n",
    "        if ii%100==0:\n",
    "\n",
    "            print(ii)\n",
    "\n",
    "\n",
    "        current_run = dict(design_df.iloc[ii])\n",
    "\n",
    "        selected_samples = current_run[\"selected_samples\"]\n",
    "\n",
    "        current_performance = model_performance_cv_val_test(xx,yy,selected_samples,xx_test,yy_test,total_lv=15, cv_reps = 1)\n",
    "\n",
    "        current_run.update(current_performance)\n",
    "\n",
    "        pls_performance[str(ii)] = current_run\n",
    "\n",
    "    print('finish: ',datetime.now())\n",
    "\n",
    "\n",
    "    # ¡¡¡ --- !!! ---> save output \n",
    "\n",
    "    df_output = pd.DataFrame.from_dict(pls_performance, orient=\"index\")\n",
    "    df_output.to_pickle(base_dir + \"/experiments/\" + experimentID + \"/output/\" + caseID_key + \"_\" + data_class.y_names[jj] + \"_numba_02_pls_performance.pkl\")"
   ]
  },
  {
   "cell_type": "code",
   "execution_count": 20,
   "metadata": {},
   "outputs": [
    {
     "data": {
      "text/plain": [
       "{'npc': 4,\n",
       " 'method_name': 'shenkwest',\n",
       " 'sample_size': 20,\n",
       " 'selected_samples': array([1, 0, 0, 0, 0, 0, 0, 0, 0, 1, 0, 0, 1, 0, 0, 0, 0, 0, 0, 0, 0, 0,\n",
       "        0, 0, 1, 0, 1, 0, 0, 0, 0, 0, 1, 0, 0, 1, 0, 0, 0, 0, 0, 0, 0, 0,\n",
       "        0, 0, 0, 0, 0, 0, 0, 0, 0, 0, 0, 0])}"
      ]
     },
     "execution_count": 20,
     "metadata": {},
     "output_type": "execute_result"
    }
   ],
   "source": [
    "selected_samples.sum()\n",
    "current_run"
   ]
  },
  {
   "cell_type": "code",
   "execution_count": 7,
   "metadata": {},
   "outputs": [
    {
     "data": {
      "text/plain": [
       "[<matplotlib.lines.Line2D at 0x7f0fca6d51d0>]"
      ]
     },
     "execution_count": 7,
     "metadata": {},
     "output_type": "execute_result"
    },
    {
     "data": {
      "image/png": "[encoded data removed]",
      "text/plain": [
       "<Figure size 432x288 with 1 Axes>"
      ]
     },
     "metadata": {
      "needs_background": "light"
     },
     "output_type": "display_data"
    }
   ],
   "source": [
    "plt.plot(df_output.iloc[0][\"r2cv\"])"
   ]
  },
  {
   "cell_type": "code",
   "execution_count": null,
   "metadata": {},
   "outputs": [],
   "source": [
    "# base_dir + \"/experiments/python/2020-07-29_0001/output/\" + caseID_key + \"_\" + data_class.y_names[0] + \"_numba_02_pls_performance.pkl\""
   ]
  }
 ],
 "metadata": {
  "kernelspec": {
   "display_name": "Python 3",
   "language": "python",
   "name": "python3"
  },
  "language_info": {
   "codemirror_mode": {
    "name": "ipython",
    "version": 3
   },
   "file_extension": ".py",
   "mimetype": "text/x-python",
   "name": "python",
   "nbconvert_exporter": "python",
   "pygments_lexer": "ipython3",
   "version": "3.7.7"
  }
 },
 "nbformat": 4,
 "nbformat_minor": 4
}
